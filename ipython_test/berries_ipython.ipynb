{
 "cells": [
  {
   "cell_type": "code",
   "execution_count": 9,
   "id": "ca1db38f",
   "metadata": {},
   "outputs": [],
   "source": [
    "import requests\n",
    "import numpy as np\n",
    "import pylab as pl"
   ]
  },
  {
   "cell_type": "code",
   "execution_count": 10,
   "id": "1e7066c1",
   "metadata": {},
   "outputs": [],
   "source": [
    "main_url = 'https://pokeapi.co/api/v2/berry/'"
   ]
  },
  {
   "cell_type": "code",
   "execution_count": 11,
   "id": "eee49456",
   "metadata": {},
   "outputs": [
    {
     "data": {
      "text/plain": [
       "<Response [200]>"
      ]
     },
     "execution_count": 11,
     "metadata": {},
     "output_type": "execute_result"
    }
   ],
   "source": [
    "response = requests.get( main_url )\n",
    "response"
   ]
  },
  {
   "cell_type": "code",
   "execution_count": 12,
   "id": "105e7f6d",
   "metadata": {},
   "outputs": [
    {
     "name": "stdout",
     "output_type": "stream",
     "text": [
      "There is 64 berries in the dataset\n"
     ]
    }
   ],
   "source": [
    "# Un codigo 200 indica que se obtuvieron datos satisfactoriamente\n",
    "try:\n",
    "    if response.status_code == 200:\n",
    "        payload = response.json()\n",
    "        berries_number = payload.get( 'count', [] )\n",
    "        \n",
    "        print('There is {} berries in the dataset'.format( berries_number ))\n",
    "except:\n",
    "    print('ERROR! Something went wrong while loading data')\n",
    "    "
   ]
  },
  {
   "cell_type": "code",
   "execution_count": 13,
   "id": "d1aed633",
   "metadata": {},
   "outputs": [
    {
     "name": "stdout",
     "output_type": "stream",
     "text": [
      "Berri 1 ---> cheri with grow time of 3\n",
      "Berri 2 ---> chesto with grow time of 3\n",
      "Berri 3 ---> pecha with grow time of 3\n",
      "Berri 4 ---> rawst with grow time of 3\n",
      "Berri 5 ---> aspear with grow time of 3\n",
      "Berri 6 ---> leppa with grow time of 4\n",
      "Berri 7 ---> oran with grow time of 4\n",
      "Berri 8 ---> persim with grow time of 4\n",
      "Berri 9 ---> lum with grow time of 12\n",
      "Berri 10 ---> sitrus with grow time of 8\n",
      "Berri 11 ---> figy with grow time of 5\n",
      "Berri 12 ---> wiki with grow time of 5\n",
      "Berri 13 ---> mago with grow time of 5\n",
      "Berri 14 ---> aguav with grow time of 5\n",
      "Berri 15 ---> iapapa with grow time of 5\n",
      "Berri 16 ---> razz with grow time of 2\n",
      "Berri 17 ---> bluk with grow time of 2\n",
      "Berri 18 ---> nanab with grow time of 2\n",
      "Berri 19 ---> wepear with grow time of 2\n",
      "Berri 20 ---> pinap with grow time of 2\n",
      "Berri 21 ---> pomeg with grow time of 8\n",
      "Berri 22 ---> kelpsy with grow time of 8\n",
      "Berri 23 ---> qualot with grow time of 8\n",
      "Berri 24 ---> hondew with grow time of 8\n",
      "Berri 25 ---> grepa with grow time of 8\n",
      "Berri 26 ---> tamato with grow time of 8\n",
      "Berri 27 ---> cornn with grow time of 6\n",
      "Berri 28 ---> magost with grow time of 6\n",
      "Berri 29 ---> rabuta with grow time of 6\n",
      "Berri 30 ---> nomel with grow time of 6\n",
      "Berri 31 ---> spelon with grow time of 15\n",
      "Berri 32 ---> pamtre with grow time of 15\n",
      "Berri 33 ---> watmel with grow time of 15\n",
      "Berri 34 ---> durin with grow time of 15\n",
      "Berri 35 ---> belue with grow time of 15\n",
      "Berri 36 ---> occa with grow time of 18\n",
      "Berri 37 ---> passho with grow time of 18\n",
      "Berri 38 ---> wacan with grow time of 18\n",
      "Berri 39 ---> rindo with grow time of 18\n",
      "Berri 40 ---> yache with grow time of 18\n",
      "Berri 41 ---> chople with grow time of 18\n",
      "Berri 42 ---> kebia with grow time of 18\n",
      "Berri 43 ---> shuca with grow time of 18\n",
      "Berri 44 ---> coba with grow time of 18\n",
      "Berri 45 ---> payapa with grow time of 18\n",
      "Berri 46 ---> tanga with grow time of 18\n",
      "Berri 47 ---> charti with grow time of 18\n",
      "Berri 48 ---> kasib with grow time of 18\n",
      "Berri 49 ---> haban with grow time of 18\n",
      "Berri 50 ---> colbur with grow time of 18\n",
      "Berri 51 ---> babiri with grow time of 18\n",
      "Berri 52 ---> chilan with grow time of 18\n",
      "Berri 53 ---> liechi with grow time of 24\n",
      "Berri 54 ---> ganlon with grow time of 24\n",
      "Berri 55 ---> salac with grow time of 24\n",
      "Berri 56 ---> petaya with grow time of 24\n",
      "Berri 57 ---> apicot with grow time of 24\n",
      "Berri 58 ---> lansat with grow time of 24\n",
      "Berri 59 ---> starf with grow time of 24\n",
      "Berri 60 ---> enigma with grow time of 24\n",
      "Berri 61 ---> micle with grow time of 24\n",
      "Berri 62 ---> custap with grow time of 24\n",
      "Berri 63 ---> jaboca with grow time of 24\n",
      "Berri 64 ---> rowap with grow time of 24\n"
     ]
    }
   ],
   "source": [
    "# Obtengo los datos de las berries\n",
    "berri_names      = []\n",
    "berri_grow_times = []\n",
    "for k in range(berries_number+1):\n",
    "    berri_response = requests.get( main_url + str(k) )\n",
    "    \n",
    "    if berri_response.status_code == 200:\n",
    "        berri_payload       = berri_response.json()\n",
    "        berri_name          = berri_payload.get( 'name', [] )\n",
    "        berri_growth_time   = berri_payload.get( 'growth_time', [] )\n",
    "        print( 'Berri {} ---> {} with grow time of {}'.format(k, berri_name, berri_growth_time) )\n",
    "        \n",
    "        # Guardo los datos en listas:\n",
    "        berri_names.append( berri_name )\n",
    "        berri_grow_times.append( berri_growth_time )"
   ]
  },
  {
   "cell_type": "code",
   "execution_count": 14,
   "id": "81c48811",
   "metadata": {},
   "outputs": [
    {
     "data": {
      "text/plain": [
       "array([ 3,  3,  3,  3,  3,  4,  4,  4, 12,  8,  5,  5,  5,  5,  5,  2,  2,\n",
       "        2,  2,  2,  8,  8,  8,  8,  8,  8,  6,  6,  6,  6, 15, 15, 15, 15,\n",
       "       15, 18, 18, 18, 18, 18, 18, 18, 18, 18, 18, 18, 18, 18, 18, 18, 18,\n",
       "       18, 24, 24, 24, 24, 24, 24, 24, 24, 24, 24, 24, 24])"
      ]
     },
     "execution_count": 14,
     "metadata": {},
     "output_type": "execute_result"
    }
   ],
   "source": [
    "# Convierto los valores de crecimiento en un arreglo de numpy\n",
    "berri_grow_times = np.asarray( berri_grow_times )\n",
    "berri_grow_times"
   ]
  },
  {
   "cell_type": "code",
   "execution_count": 15,
   "id": "b59a0bfd",
   "metadata": {
    "scrolled": true
   },
   "outputs": [
    {
     "data": {
      "text/plain": [
       "{'berries_names': ['cheri',\n",
       "  'chesto',\n",
       "  'pecha',\n",
       "  'rawst',\n",
       "  'aspear',\n",
       "  'leppa',\n",
       "  'oran',\n",
       "  'persim',\n",
       "  'lum',\n",
       "  'sitrus',\n",
       "  'figy',\n",
       "  'wiki',\n",
       "  'mago',\n",
       "  'aguav',\n",
       "  'iapapa',\n",
       "  'razz',\n",
       "  'bluk',\n",
       "  'nanab',\n",
       "  'wepear',\n",
       "  'pinap',\n",
       "  'pomeg',\n",
       "  'kelpsy',\n",
       "  'qualot',\n",
       "  'hondew',\n",
       "  'grepa',\n",
       "  'tamato',\n",
       "  'cornn',\n",
       "  'magost',\n",
       "  'rabuta',\n",
       "  'nomel',\n",
       "  'spelon',\n",
       "  'pamtre',\n",
       "  'watmel',\n",
       "  'durin',\n",
       "  'belue',\n",
       "  'occa',\n",
       "  'passho',\n",
       "  'wacan',\n",
       "  'rindo',\n",
       "  'yache',\n",
       "  'chople',\n",
       "  'kebia',\n",
       "  'shuca',\n",
       "  'coba',\n",
       "  'payapa',\n",
       "  'tanga',\n",
       "  'charti',\n",
       "  'kasib',\n",
       "  'haban',\n",
       "  'colbur',\n",
       "  'babiri',\n",
       "  'chilan',\n",
       "  'liechi',\n",
       "  'ganlon',\n",
       "  'salac',\n",
       "  'petaya',\n",
       "  'apicot',\n",
       "  'lansat',\n",
       "  'starf',\n",
       "  'enigma',\n",
       "  'micle',\n",
       "  'custap',\n",
       "  'jaboca',\n",
       "  'rowap'],\n",
       " 'min_growth_time': '2',\n",
       " 'median_growth_time': '15.0',\n",
       " 'max_growth_time': '24',\n",
       " 'variance_growth_time': '61.495849609375',\n",
       " 'mean_growth_time': '12.859375',\n",
       " 'frequency_growth_time': '[(2, 5), (3, 5), (4, 3), (5, 5), (6, 4), (8, 7), (12, 1), (15, 5), (18, 17), (24, 12)]'}"
      ]
     },
     "execution_count": 15,
     "metadata": {},
     "output_type": "execute_result"
    }
   ],
   "source": [
    "# Creo el diccionario con la informacion\n",
    "unique, counts = np.unique(berri_grow_times, return_counts=True)\n",
    "frequency = list(zip(unique, counts))\n",
    "\n",
    "berries_dicc = {\n",
    "    \"berries_names\": berri_names,\n",
    "    \"min_growth_time\": str( min( berri_grow_times ) ),\n",
    "    \"median_growth_time\": str( np.median( berri_grow_times ) ),\n",
    "    \"max_growth_time\": str( max( berri_grow_times ) ),\n",
    "    \"variance_growth_time\": str( np.var( berri_grow_times ) ),\n",
    "    \"mean_growth_time\": str( np.mean( berri_grow_times ) ),\n",
    "    \"frequency_growth_time\": str( frequency )\n",
    "}\n",
    "berries_dicc"
   ]
  },
  {
   "cell_type": "code",
   "execution_count": 16,
   "id": "78fe8018",
   "metadata": {},
   "outputs": [
    {
     "data": {
      "text/plain": [
       "Text(0.5, 1.0, \"Berri's Grow Times Histogram\")"
      ]
     },
     "execution_count": 16,
     "metadata": {},
     "output_type": "execute_result"
    },
    {
     "data": {
      "image/png": "[encoded data removed]",
      "text/plain": [
       "<Figure size 432x288 with 1 Axes>"
      ]
     },
     "metadata": {
      "needs_background": "light"
     },
     "output_type": "display_data"
    }
   ],
   "source": [
    "# Hago un histograma para mostrar los datos\n",
    "pl.figure()\n",
    "pl.hist(berri_grow_times)\n",
    "pl.grid()\n",
    "pl.xlabel('Berri Grow Time')\n",
    "pl.ylabel('Ocurrences')\n",
    "pl.title(\"Berri's Grow Times Histogram\")"
   ]
  },
  {
   "cell_type": "code",
   "execution_count": 28,
   "id": "da94de2f",
   "metadata": {},
   "outputs": [
    {
     "name": "stdout",
     "output_type": "stream",
     "text": [
      "{'0': {'name': 'rowap', 'grow_time': 24}, '1': {'name': 'cheri', 'grow_time': 3}, '2': {'name': 'chesto', 'grow_time': 3}, '3': {'name': 'pecha', 'grow_time': 3}, '4': {'name': 'rawst', 'grow_time': 3}, '5': {'name': 'aspear', 'grow_time': 3}, '6': {'name': 'leppa', 'grow_time': 4}, '7': {'name': 'oran', 'grow_time': 4}, '8': {'name': 'persim', 'grow_time': 4}, '9': {'name': 'lum', 'grow_time': 12}, '10': {'name': 'sitrus', 'grow_time': 8}, '11': {'name': 'figy', 'grow_time': 5}, '12': {'name': 'wiki', 'grow_time': 5}, '13': {'name': 'mago', 'grow_time': 5}, '14': {'name': 'aguav', 'grow_time': 5}, '15': {'name': 'iapapa', 'grow_time': 5}, '16': {'name': 'razz', 'grow_time': 2}, '17': {'name': 'bluk', 'grow_time': 2}, '18': {'name': 'nanab', 'grow_time': 2}, '19': {'name': 'wepear', 'grow_time': 2}, '20': {'name': 'pinap', 'grow_time': 2}, '21': {'name': 'pomeg', 'grow_time': 8}, '22': {'name': 'kelpsy', 'grow_time': 8}, '23': {'name': 'qualot', 'grow_time': 8}, '24': {'name': 'hondew', 'grow_time': 8}, '25': {'name': 'grepa', 'grow_time': 8}, '26': {'name': 'tamato', 'grow_time': 8}, '27': {'name': 'cornn', 'grow_time': 6}, '28': {'name': 'magost', 'grow_time': 6}, '29': {'name': 'rabuta', 'grow_time': 6}, '30': {'name': 'nomel', 'grow_time': 6}, '31': {'name': 'spelon', 'grow_time': 15}, '32': {'name': 'pamtre', 'grow_time': 15}, '33': {'name': 'watmel', 'grow_time': 15}, '34': {'name': 'durin', 'grow_time': 15}, '35': {'name': 'belue', 'grow_time': 15}, '36': {'name': 'occa', 'grow_time': 18}, '37': {'name': 'passho', 'grow_time': 18}, '38': {'name': 'wacan', 'grow_time': 18}, '39': {'name': 'rindo', 'grow_time': 18}, '40': {'name': 'yache', 'grow_time': 18}, '41': {'name': 'chople', 'grow_time': 18}, '42': {'name': 'kebia', 'grow_time': 18}, '43': {'name': 'shuca', 'grow_time': 18}, '44': {'name': 'coba', 'grow_time': 18}, '45': {'name': 'payapa', 'grow_time': 18}, '46': {'name': 'tanga', 'grow_time': 18}, '47': {'name': 'charti', 'grow_time': 18}, '48': {'name': 'kasib', 'grow_time': 18}, '49': {'name': 'haban', 'grow_time': 18}, '50': {'name': 'colbur', 'grow_time': 18}, '51': {'name': 'babiri', 'grow_time': 18}, '52': {'name': 'chilan', 'grow_time': 18}, '53': {'name': 'liechi', 'grow_time': 24}, '54': {'name': 'ganlon', 'grow_time': 24}, '55': {'name': 'salac', 'grow_time': 24}, '56': {'name': 'petaya', 'grow_time': 24}, '57': {'name': 'apicot', 'grow_time': 24}, '58': {'name': 'lansat', 'grow_time': 24}, '59': {'name': 'starf', 'grow_time': 24}, '60': {'name': 'enigma', 'grow_time': 24}, '61': {'name': 'micle', 'grow_time': 24}, '62': {'name': 'custap', 'grow_time': 24}, '63': {'name': 'jaboca', 'grow_time': 24}, '64': {'name': 'rowap', 'grow_time': 24}}\n"
     ]
    }
   ],
   "source": [
    "import json\n",
    "\n",
    "# Armo el diccionrio JSON\n",
    "json_data = {}\n",
    "for k in range(berries_number+1):\n",
    "    json_data[k] = {\n",
    "        'name' : berri_names[k-1],\n",
    "        'grow_time' : int(berri_grow_times[k-1]),\n",
    "    }\n",
    "\n",
    "json_object = json.dumps(json_data, indent = 4) \n",
    "print(json.loads(json_object))"
   ]
  },
  {
   "cell_type": "code",
   "execution_count": 22,
   "id": "fb81c0ed",
   "metadata": {},
   "outputs": [
    {
     "name": "stdout",
     "output_type": "stream",
     "text": [
      "{0: {'name': 'rowap', 'grow_time': 24}, 1: {'name': 'cheri', 'grow_time': 3}, 2: {'name': 'chesto', 'grow_time': 3}, 3: {'name': 'pecha', 'grow_time': 3}, 4: {'name': 'rawst', 'grow_time': 3}, 5: {'name': 'aspear', 'grow_time': 3}, 6: {'name': 'leppa', 'grow_time': 4}, 7: {'name': 'oran', 'grow_time': 4}, 8: {'name': 'persim', 'grow_time': 4}, 9: {'name': 'lum', 'grow_time': 12}, 10: {'name': 'sitrus', 'grow_time': 8}, 11: {'name': 'figy', 'grow_time': 5}, 12: {'name': 'wiki', 'grow_time': 5}, 13: {'name': 'mago', 'grow_time': 5}, 14: {'name': 'aguav', 'grow_time': 5}, 15: {'name': 'iapapa', 'grow_time': 5}, 16: {'name': 'razz', 'grow_time': 2}, 17: {'name': 'bluk', 'grow_time': 2}, 18: {'name': 'nanab', 'grow_time': 2}, 19: {'name': 'wepear', 'grow_time': 2}, 20: {'name': 'pinap', 'grow_time': 2}, 21: {'name': 'pomeg', 'grow_time': 8}, 22: {'name': 'kelpsy', 'grow_time': 8}, 23: {'name': 'qualot', 'grow_time': 8}, 24: {'name': 'hondew', 'grow_time': 8}, 25: {'name': 'grepa', 'grow_time': 8}, 26: {'name': 'tamato', 'grow_time': 8}, 27: {'name': 'cornn', 'grow_time': 6}, 28: {'name': 'magost', 'grow_time': 6}, 29: {'name': 'rabuta', 'grow_time': 6}, 30: {'name': 'nomel', 'grow_time': 6}, 31: {'name': 'spelon', 'grow_time': 15}, 32: {'name': 'pamtre', 'grow_time': 15}, 33: {'name': 'watmel', 'grow_time': 15}, 34: {'name': 'durin', 'grow_time': 15}, 35: {'name': 'belue', 'grow_time': 15}, 36: {'name': 'occa', 'grow_time': 18}, 37: {'name': 'passho', 'grow_time': 18}, 38: {'name': 'wacan', 'grow_time': 18}, 39: {'name': 'rindo', 'grow_time': 18}, 40: {'name': 'yache', 'grow_time': 18}, 41: {'name': 'chople', 'grow_time': 18}, 42: {'name': 'kebia', 'grow_time': 18}, 43: {'name': 'shuca', 'grow_time': 18}, 44: {'name': 'coba', 'grow_time': 18}, 45: {'name': 'payapa', 'grow_time': 18}, 46: {'name': 'tanga', 'grow_time': 18}, 47: {'name': 'charti', 'grow_time': 18}, 48: {'name': 'kasib', 'grow_time': 18}, 49: {'name': 'haban', 'grow_time': 18}, 50: {'name': 'colbur', 'grow_time': 18}, 51: {'name': 'babiri', 'grow_time': 18}, 52: {'name': 'chilan', 'grow_time': 18}, 53: {'name': 'liechi', 'grow_time': 24}, 54: {'name': 'ganlon', 'grow_time': 24}, 55: {'name': 'salac', 'grow_time': 24}, 56: {'name': 'petaya', 'grow_time': 24}, 57: {'name': 'apicot', 'grow_time': 24}, 58: {'name': 'lansat', 'grow_time': 24}, 59: {'name': 'starf', 'grow_time': 24}, 60: {'name': 'enigma', 'grow_time': 24}, 61: {'name': 'micle', 'grow_time': 24}, 62: {'name': 'custap', 'grow_time': 24}, 63: {'name': 'jaboca', 'grow_time': 24}, 64: {'name': 'rowap', 'grow_time': 24}}\n"
     ]
    }
   ],
   "source": [
    "print(json_data)"
   ]
  },
  {
   "cell_type": "code",
   "execution_count": null,
   "id": "a6c7a34f",
   "metadata": {},
   "outputs": [],
   "source": []
  }
 ],
 "metadata": {
  "kernelspec": {
   "display_name": "Python 3 (ipykernel)",
   "language": "python",
   "name": "python3"
  },
  "language_info": {
   "codemirror_mode": {
    "name": "ipython",
    "version": 3
   },
   "file_extension": ".py",
   "mimetype": "text/x-python",
   "name": "python",
   "nbconvert_exporter": "python",
   "pygments_lexer": "ipython3",
   "version": "3.9.12"
  }
 },
 "nbformat": 4,
 "nbformat_minor": 5
}
